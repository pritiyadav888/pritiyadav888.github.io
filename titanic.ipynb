{
  "nbformat": 4,
  "nbformat_minor": 5,
  "metadata": {
    "kernelspec": {
      "display_name": "Python 3",
      "language": "python",
      "name": "python3"
    },
    "language_info": {
      "codemirror_mode": {
        "name": "ipython",
        "version": 3
      },
      "file_extension": ".py",
      "mimetype": "text/x-python",
      "name": "python",
      "nbconvert_exporter": "python",
      "pygments_lexer": "ipython3",
      "version": "3.8.8"
    },
    "colab": {
      "name": "titanic.ipynb",
      "provenance": [],
      "include_colab_link": true
    }
  },
  "cells": [
    {
      "cell_type": "markdown",
      "metadata": {
        "id": "view-in-github",
        "colab_type": "text"
      },
      "source": [
        "<a href=\"https://colab.research.google.com/github/pritiyadav888/pritiyadav888.github.io/blob/master/titanic.ipynb\" target=\"_parent\"><img src=\"https://colab.research.google.com/assets/colab-badge.svg\" alt=\"Open In Colab\"/></a>"
      ]
    },
    {
      "cell_type": "code",
      "metadata": {
        "id": "0a4088de"
      },
      "source": [
        "import pandas as pd\n",
        "import numpy as np\n",
        "import matplotlib.pyplot as plt\n",
        "%matplotlib inline\n",
        "import seaborn as sns\n",
        "import warnings\n",
        "warnings.filterwarnings('ignore')\n",
        "pd.pandas.set_option('display.max_columns',None)"
      ],
      "id": "0a4088de",
      "execution_count": null,
      "outputs": []
    },
    {
      "cell_type": "code",
      "metadata": {
        "id": "1dae7fbf"
      },
      "source": [
        "train = pd.read_csv(\"train.csv\")\n",
        "test = pd.read_csv(\"test.csv\")\n",
        "test_ids = test[\"PassengerId\"]"
      ],
      "id": "1dae7fbf",
      "execution_count": 6,
      "outputs": []
    },
    {
      "cell_type": "code",
      "metadata": {
        "id": "5ced16f0",
        "colab": {
          "base_uri": "https://localhost:8080/",
          "height": 206
        },
        "outputId": "38d1c61a-461e-487e-e267-75f119fd61f2"
      },
      "source": [
        "total = train.isnull().sum().sort_values(ascending=False)\n",
        "percent_1 = train.isnull().sum()/train.isnull().count()*100\n",
        "percent_2 = (round(percent_1, 1)).sort_values(ascending=False)\n",
        "missing_data = pd.concat([total, percent_2], axis=1, keys=['Total', '%'])\n",
        "missing_data.head(5)"
      ],
      "id": "5ced16f0",
      "execution_count": 7,
      "outputs": [
        {
          "output_type": "execute_result",
          "data": {
            "text/html": [
              "<div>\n",
              "<style scoped>\n",
              "    .dataframe tbody tr th:only-of-type {\n",
              "        vertical-align: middle;\n",
              "    }\n",
              "\n",
              "    .dataframe tbody tr th {\n",
              "        vertical-align: top;\n",
              "    }\n",
              "\n",
              "    .dataframe thead th {\n",
              "        text-align: right;\n",
              "    }\n",
              "</style>\n",
              "<table border=\"1\" class=\"dataframe\">\n",
              "  <thead>\n",
              "    <tr style=\"text-align: right;\">\n",
              "      <th></th>\n",
              "      <th>Total</th>\n",
              "      <th>%</th>\n",
              "    </tr>\n",
              "  </thead>\n",
              "  <tbody>\n",
              "    <tr>\n",
              "      <th>year_of_death</th>\n",
              "      <td>282</td>\n",
              "      <td>14.3</td>\n",
              "    </tr>\n",
              "    <tr>\n",
              "      <th>race</th>\n",
              "      <td>199</td>\n",
              "      <td>10.1</td>\n",
              "    </tr>\n",
              "    <tr>\n",
              "      <th>age_group</th>\n",
              "      <td>15</td>\n",
              "      <td>0.8</td>\n",
              "    </tr>\n",
              "    <tr>\n",
              "      <th>symptom66</th>\n",
              "      <td>1</td>\n",
              "      <td>0.1</td>\n",
              "    </tr>\n",
              "    <tr>\n",
              "      <th>symptom13</th>\n",
              "      <td>1</td>\n",
              "      <td>0.1</td>\n",
              "    </tr>\n",
              "  </tbody>\n",
              "</table>\n",
              "</div>"
            ],
            "text/plain": [
              "               Total     %\n",
              "year_of_death    282  14.3\n",
              "race             199  10.1\n",
              "age_group         15   0.8\n",
              "symptom66          1   0.1\n",
              "symptom13          1   0.1"
            ]
          },
          "metadata": {},
          "execution_count": 7
        }
      ]
    },
    {
      "cell_type": "code",
      "metadata": {
        "id": "09f725bc"
      },
      "source": [
        "def clean(data):\n",
        "    data = data.drop([\"Ticket\", \"PassengerId\", \"Name\", \"Cabin\"], axis=1)\n",
        "    \n",
        "    cols = [\"SibSp\", \"Parch\", \"Fare\", \"Age\"]\n",
        "    for col in cols:\n",
        "        data[col].fillna(data[col].median(), inplace=True)\n",
        "        \n",
        "    data.Embarked.fillna(\"U\", inplace=True)\n",
        "    return data\n",
        "\n",
        "train = clean(train)\n",
        "test = clean(test)\n",
        "print('\\n Train file dataset info')\n",
        "print(train.info())\n",
        "print('\\n\\n Test file dataset info')\n",
        "print(test.info())"
      ],
      "id": "09f725bc",
      "execution_count": null,
      "outputs": []
    },
    {
      "cell_type": "code",
      "metadata": {
        "id": "1046489c"
      },
      "source": [
        "total = train.isnull().sum().sort_values(ascending=False)\n",
        "percent_1 = train.isnull().sum()/train.isnull().count()*100\n",
        "percent_2 = (round(percent_1, 1)).sort_values(ascending=False)\n",
        "missing_data = pd.concat([total, percent_2], axis=1, keys=['Total', '%'])\n",
        "missing_data.head(5)"
      ],
      "id": "1046489c",
      "execution_count": null,
      "outputs": []
    },
    {
      "cell_type": "code",
      "metadata": {
        "id": "9e55f3be"
      },
      "source": [
        "female_survivor = train.loc[train.Sex == 'female'][\"Survived\"]\n",
        "rate_female = sum(female_survivor)/len(female_survivor)\n",
        "male_survivor = train.loc[train.Sex == 'male'][\"Survived\"]\n",
        "rate_male = sum(male_survivor)/len(male_survivor)\n",
        "print(\"% of female who survived:\", rate_female)\n",
        "print(\"% of male who survived:\", rate_male)"
      ],
      "id": "9e55f3be",
      "execution_count": null,
      "outputs": []
    },
    {
      "cell_type": "code",
      "metadata": {
        "id": "10ee5142"
      },
      "source": [
        "# seperate the data into numeric and categorical\n",
        "df_num = train[['Age','SibSp','Parch','Fare']]\n",
        "df_cat = train[['Survived','Pclass','Sex','Embarked']]"
      ],
      "id": "10ee5142",
      "execution_count": null,
      "outputs": []
    },
    {
      "cell_type": "code",
      "metadata": {
        "id": "46464841"
      },
      "source": [
        "for i in df_num.columns:\n",
        "    plt.hist(df_num[i])\n",
        "    plt.title(i)\n",
        "    plt.show()"
      ],
      "id": "46464841",
      "execution_count": null,
      "outputs": []
    },
    {
      "cell_type": "code",
      "metadata": {
        "id": "42488f36"
      },
      "source": [
        "sns.heatmap(df_num.corr())"
      ],
      "id": "42488f36",
      "execution_count": null,
      "outputs": []
    },
    {
      "cell_type": "code",
      "metadata": {
        "id": "34cf9b53"
      },
      "source": [
        "pd.pivot_table(train, index = 'Survived', values = ['Age','SibSp','Parch','Fare'])\n"
      ],
      "id": "34cf9b53",
      "execution_count": null,
      "outputs": []
    },
    {
      "cell_type": "code",
      "metadata": {
        "id": "eb861117"
      },
      "source": [
        "for i in df_cat.columns:\n",
        "    sns.barplot(df_cat[i].value_counts().index,df_cat[i].value_counts()).set_title(i)\n",
        "    plt.show()"
      ],
      "id": "eb861117",
      "execution_count": null,
      "outputs": []
    },
    {
      "cell_type": "code",
      "metadata": {
        "id": "33719e80"
      },
      "source": [
        "print(pd.pivot_table(train, index = 'Survived', columns = 'Pclass',\n",
        "                     values = 'Age' ,aggfunc ='count'))\n",
        "print()\n",
        "print(pd.pivot_table(train, index = 'Survived', columns = 'Sex', \n",
        "                     values = 'Age' ,aggfunc ='count'))\n",
        "print()\n",
        "print(pd.pivot_table(train, index = 'Survived', columns = 'Embarked', \n",
        "                     values = 'Age' ,aggfunc ='count'))"
      ],
      "id": "33719e80",
      "execution_count": null,
      "outputs": []
    },
    {
      "cell_type": "code",
      "metadata": {
        "id": "6b0a9ba9"
      },
      "source": [
        "from sklearn import preprocessing\n",
        "le = preprocessing.LabelEncoder()\n",
        "columns = [\"Sex\", \"Embarked\"]\n",
        "\n",
        "for col in columns:\n",
        "    train[col] = le.fit_transform(train[col])\n",
        "    test[col] = le.transform(test[col])\n",
        "    print(le.classes_)"
      ],
      "id": "6b0a9ba9",
      "execution_count": null,
      "outputs": []
    },
    {
      "cell_type": "code",
      "metadata": {
        "id": "a111ca53"
      },
      "source": [
        "from sklearn.model_selection import train_test_split\n",
        "from sklearn.model_selection import cross_val_score\n",
        "from sklearn.linear_model import LogisticRegression\n",
        "from sklearn.neighbors import KNeighborsClassifier\n",
        "from sklearn.ensemble import RandomForestClassifier\n",
        "from sklearn.svm import SVC\n",
        "\n",
        "y = train[\"Survived\"]\n",
        "X = train.drop(\"Survived\", axis=1)\n",
        "\n",
        "X_train, X_test, y_train, y_test = train_test_split(X, y, test_size=0.2, random_state=42)"
      ],
      "id": "a111ca53",
      "execution_count": null,
      "outputs": []
    },
    {
      "cell_type": "markdown",
      "metadata": {
        "id": "c79f51c3"
      },
      "source": [
        "Logistic Regression"
      ],
      "id": "c79f51c3"
    },
    {
      "cell_type": "code",
      "metadata": {
        "id": "986588e5"
      },
      "source": [
        "clf = LogisticRegression(random_state=0, max_iter=1000).fit(X_train, y_train)"
      ],
      "id": "986588e5",
      "execution_count": null,
      "outputs": []
    },
    {
      "cell_type": "code",
      "metadata": {
        "id": "b90f9d17"
      },
      "source": [
        "predictions = clf.predict(X_test)\n",
        "from sklearn.metrics import accuracy_score\n",
        "accuracy_score(y_test, predictions)"
      ],
      "id": "b90f9d17",
      "execution_count": null,
      "outputs": []
    },
    {
      "cell_type": "code",
      "metadata": {
        "id": "0698bbe0"
      },
      "source": [
        "cv = cross_val_score(clf,X_train,y_train,cv=5)\n",
        "print(cv)\n",
        "print(cv.mean())"
      ],
      "id": "0698bbe0",
      "execution_count": null,
      "outputs": []
    },
    {
      "cell_type": "markdown",
      "metadata": {
        "id": "abfd24c2"
      },
      "source": [
        "K Nearest Neighbour"
      ],
      "id": "abfd24c2"
    },
    {
      "cell_type": "code",
      "metadata": {
        "id": "926e103f"
      },
      "source": [
        "knn = KNeighborsClassifier(n_neighbors=3).fit(X_train, y_train)\n",
        "predictions = clf.predict(X_test)\n",
        "print(accuracy_score(y_test, predictions))\n",
        "\n",
        "cv = cross_val_score(knn,X_train,y_train,cv=5)\n",
        "print(cv)\n",
        "print(cv.mean())\n"
      ],
      "id": "926e103f",
      "execution_count": null,
      "outputs": []
    },
    {
      "cell_type": "markdown",
      "metadata": {
        "id": "053cefd1"
      },
      "source": [
        "Support Vector Classifier"
      ],
      "id": "053cefd1"
    },
    {
      "cell_type": "code",
      "metadata": {
        "id": "648b4167"
      },
      "source": [
        "svc = SVC(probability = True).fit(X_train, y_train)\n",
        "predictions = clf.predict(X_test)\n",
        "print(accuracy_score(y_test, predictions))\n",
        "\n",
        "cv = cross_val_score(svc,X_train,y_train,cv=5)\n",
        "print(cv)\n",
        "print(cv.mean())"
      ],
      "id": "648b4167",
      "execution_count": null,
      "outputs": []
    },
    {
      "cell_type": "markdown",
      "metadata": {
        "id": "3154d99d"
      },
      "source": [
        "Random Forest Classifier"
      ],
      "id": "3154d99d"
    },
    {
      "cell_type": "code",
      "metadata": {
        "id": "6d90a173"
      },
      "source": [
        "rf_clf = RandomForestClassifier(random_state = 42).fit(X_train, y_train)\n",
        "predictions = rf_clf.predict(X_test)\n",
        "print(accuracy_score(y_test, predictions))\n",
        "\n",
        "cv = cross_val_score(rf_clf,X_train,y_train,cv=5)\n",
        "print(cv)\n",
        "print(cv.mean())\n"
      ],
      "id": "6d90a173",
      "execution_count": null,
      "outputs": []
    },
    {
      "cell_type": "markdown",
      "metadata": {
        "id": "f26388f0"
      },
      "source": [
        "Another model Analysis --- Trees"
      ],
      "id": "f26388f0"
    },
    {
      "cell_type": "code",
      "metadata": {
        "id": "6a275ae5"
      },
      "source": [
        "from sklearn.model_selection import cross_val_score\n",
        "# from sklearn.ensemble import RandomForestClassifier\n",
        "from sklearn.ensemble import ExtraTreesClassifier\n",
        "from sklearn.tree import DecisionTreeClassifier"
      ],
      "id": "6a275ae5",
      "execution_count": null,
      "outputs": []
    },
    {
      "cell_type": "code",
      "metadata": {
        "id": "1eb1af16"
      },
      "source": [
        "clf = DecisionTreeClassifier(max_depth=None, min_samples_split=2,\n",
        "random_state=0).fit(X_train, y_train)\n",
        "predictions = clf.predict(X_test)\n",
        "print(accuracy_score(y_test, predictions))\n",
        "scores = cross_val_score(clf, X_train,y_train, cv=5)\n",
        "print(scores.mean())"
      ],
      "id": "1eb1af16",
      "execution_count": null,
      "outputs": []
    },
    {
      "cell_type": "code",
      "metadata": {
        "id": "fad5dc15"
      },
      "source": [
        "clf_rf = RandomForestClassifier(n_estimators=20, max_depth=10,\n",
        "min_samples_split=2, random_state=0).fit(X_train, y_train)\n",
        "predictions = clf_rf.predict(X_test)\n",
        "print(accuracy_score(y_test, predictions))\n",
        "scores = cross_val_score(clf_rf, X_train,y_train, cv=5)\n",
        "print(scores.mean())"
      ],
      "id": "fad5dc15",
      "execution_count": null,
      "outputs": []
    },
    {
      "cell_type": "code",
      "metadata": {
        "id": "caecce4f"
      },
      "source": [
        "clf = ExtraTreesClassifier(n_estimators=20, max_depth=10,\n",
        "min_samples_split=2, random_state=0).fit(X_train, y_train)\n",
        "predictions = clf.predict(X_test)\n",
        "print(accuracy_score(y_test, predictions))\n",
        "scores = cross_val_score(clf, X_train,y_train, cv=5)\n",
        "print(scores.mean())"
      ],
      "id": "caecce4f",
      "execution_count": null,
      "outputs": []
    },
    {
      "cell_type": "code",
      "metadata": {
        "id": "d53d2546"
      },
      "source": [
        "test.head(25)"
      ],
      "id": "d53d2546",
      "execution_count": null,
      "outputs": []
    },
    {
      "cell_type": "markdown",
      "metadata": {
        "id": "711340df"
      },
      "source": [
        "Best performer is RandomForestClassifier without fine tuning"
      ],
      "id": "711340df"
    },
    {
      "cell_type": "code",
      "metadata": {
        "id": "453ea6b2"
      },
      "source": [
        "submission_preds = clf_rf.predict(test)\n",
        "submission_preds"
      ],
      "id": "453ea6b2",
      "execution_count": null,
      "outputs": []
    },
    {
      "cell_type": "code",
      "metadata": {
        "id": "0f73b3b5"
      },
      "source": [
        "df = pd.DataFrame({\"PassengerId\": test_ids.values,\n",
        "                   \"Survived\": submission_preds,\n",
        "                  })"
      ],
      "id": "0f73b3b5",
      "execution_count": null,
      "outputs": []
    },
    {
      "cell_type": "code",
      "metadata": {
        "id": "197dea93"
      },
      "source": [
        "df.to_csv(\"submission.csv\", index=False)"
      ],
      "id": "197dea93",
      "execution_count": null,
      "outputs": []
    },
    {
      "cell_type": "code",
      "metadata": {
        "id": "f6b502ff",
        "colab": {
          "base_uri": "https://localhost:8080/"
        },
        "outputId": "57e8afd1-4ca8-476b-af6b-d61c4fc3d9f5"
      },
      "source": [
        "!git init"
      ],
      "id": "f6b502ff",
      "execution_count": 8,
      "outputs": [
        {
          "output_type": "stream",
          "name": "stdout",
          "text": [
            "Initialized empty Git repository in /content/.git/\n"
          ]
        }
      ]
    },
    {
      "cell_type": "code",
      "metadata": {
        "id": "lRDLp_WXpdzY"
      },
      "source": [
        ""
      ],
      "id": "lRDLp_WXpdzY",
      "execution_count": null,
      "outputs": []
    }
  ]
}